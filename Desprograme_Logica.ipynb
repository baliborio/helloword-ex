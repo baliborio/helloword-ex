{
 "cells": [
  {
   "cell_type": "code",
   "execution_count": 1,
   "metadata": {},
   "outputs": [
    {
     "name": "stdout",
     "output_type": "stream",
     "text": [
      "Digite a distância percorrida pelo automóvel: 54\n",
      "Digite o combustível gasto pelo automóvel (em litros): 102\n",
      "O gasto do automóvel é 0.5294117647058824 km/litro\n"
     ]
    }
   ],
   "source": [
    "#Exercício 3\n",
    "\n",
    "distancia = float(input('Digite a distância percorrida pelo automóvel: '))\n",
    "combustivel = float(input('Digite o combustível gasto pelo automóvel (em litros): '))\n",
    "gasto = float(distancia/combustivel)\n",
    "print(f'O gasto do automóvel é {gasto} km/litro')"
   ]
  },
  {
   "cell_type": "code",
   "execution_count": 3,
   "metadata": {},
   "outputs": [
    {
     "name": "stdout",
     "output_type": "stream",
     "text": [
      "Digite o seu nomeBárbara\n",
      "Digite o seu salário em R$1022.00\n",
      "Digite o valor das suas vendas em R$8000.00\n",
      "Olá, Bárbara, com um salário de 1022.0, você receberá R$ 2222.0 este mês\n"
     ]
    }
   ],
   "source": [
    "#Exercício 4\n",
    "\n",
    "nome = input('Digite o seu nome')\n",
    "salario = float(input('Digite o seu salário em R$'))\n",
    "vendas = float(input('Digite o valor das suas vendas em R$'))\n",
    "comissao = float(vendas*0.15)\n",
    "total = salario + comissao\n",
    "print(f'Olá, {nome}, com um salário de {salario}, você receberá R$ {total} este mês')"
   ]
  },
  {
   "cell_type": "code",
   "execution_count": 6,
   "metadata": {},
   "outputs": [
    {
     "name": "stdout",
     "output_type": "stream",
     "text": [
      "Digite o seu nomeBárbara\n",
      "Digite sua primeira nota: 7.5\n",
      "Digite sua segunda nota: 8\n",
      "Digite sua tereira nota: 9.25\n",
      "Olá, Bárbara, sua média de notas é 8.25\n"
     ]
    }
   ],
   "source": [
    "#Exercício 5\n",
    "\n",
    "nome = input('Digite o seu nome')\n",
    "nota1 = float(input('Digite sua primeira nota: '))\n",
    "nota2 = float(input('Digite sua segunda nota: '))\n",
    "nota3 = float(input('Digite sua tereira nota: '))\n",
    "notas = float(nota1 + nota2 +nota3)\n",
    "media = float(notas/3)\n",
    "print(f'Olá, {nome}, sua média de notas é {media}')"
   ]
  },
  {
   "cell_type": "code",
   "execution_count": 8,
   "metadata": {},
   "outputs": [
    {
     "name": "stdout",
     "output_type": "stream",
     "text": [
      "9\n",
      "0\n"
     ]
    }
   ],
   "source": [
    "#Exercício 6\n",
    "#Não consegui\n",
    "\n",
    "A = 8\n",
    "B = 9\n",
    "A = B\n",
    "B = A -B\n",
    "print(A)\n",
    "print(B)"
   ]
  },
  {
   "cell_type": "code",
   "execution_count": 10,
   "metadata": {},
   "outputs": [
    {
     "name": "stdout",
     "output_type": "stream",
     "text": [
      "Digite o valor em graus Celsius30\n",
      "A temperatura 30.0 em Celsius é o equivalente a 86.0 em Fahrenheit\n"
     ]
    }
   ],
   "source": [
    "# Exercício 7\n",
    "\n",
    "C = float(input('Digite o valor em graus Celsius'))\n",
    "F = (9*C+160)/5\n",
    "print(f'A temperatura {C} em Celsius é o equivalente a {F} em Fahrenheit')"
   ]
  },
  {
   "cell_type": "code",
   "execution_count": null,
   "metadata": {},
   "outputs": [],
   "source": [
    "#Exercício 8\n",
    "\n",
    "#Fizemos em sala"
   ]
  },
  {
   "cell_type": "code",
   "execution_count": 11,
   "metadata": {},
   "outputs": [
    {
     "name": "stdout",
     "output_type": "stream",
     "text": [
      "Digite o valor investido em R$1200\n",
      "Em um mês o seu rendimento foi de R$ 84.00000000000001\n"
     ]
    }
   ],
   "source": [
    "# Exercício 9\n",
    "\n",
    "valor = float(input('Digite o valor investido em R$'))\n",
    "rendimento = float(valor*0.070)\n",
    "print(f'Em um mês o seu rendimento foi de R$ {rendimento}')"
   ]
  },
  {
   "cell_type": "code",
   "execution_count": 17,
   "metadata": {},
   "outputs": [
    {
     "name": "stdout",
     "output_type": "stream",
     "text": [
      "Digite o valor do produto em R$1000\n",
      "O valor das parcelas de sua compra de 1000.0 será de R$ 200.0\n"
     ]
    }
   ],
   "source": [
    "#Exercício 10\n",
    "\n",
    "valor = float(input('Digite o valor do produto em R$'))\n",
    "parcelado = valor/5\n",
    "print(f'O valor das parcelas de sua compra de {valor} será de R$ {parcelado}')"
   ]
  },
  {
   "cell_type": "code",
   "execution_count": 14,
   "metadata": {},
   "outputs": [
    {
     "name": "stdout",
     "output_type": "stream",
     "text": [
      "Digite o percentual da sua margem de lucro50\n",
      "Digite o valor do custo de um produto em R$8\n",
      "Esse produto deve ser vendido por R$ 12.0\n"
     ]
    }
   ],
   "source": [
    "#Exercício 11\n",
    "\n",
    "margem = float(input('Digite o percentual da sua margem de lucro'))\n",
    "custo = float(input('Digite o valor do custo de um produto em R$'))\n",
    "venda = custo+(custo*(margem/100))\n",
    "print(f'Esse produto deve ser vendido por R$ {venda}')"
   ]
  },
  {
   "cell_type": "code",
   "execution_count": 22,
   "metadata": {},
   "outputs": [
    {
     "name": "stdout",
     "output_type": "stream",
     "text": [
      "Digite o valor de fábrica do veículo em R$20000\n",
      "O custo final ao consumidor será de 37120.0\n"
     ]
    }
   ],
   "source": [
    "#Exercício 12\n",
    "\n",
    "valor = float(input('Digite o valor de fábrica do veículo em R$'))\n",
    "impostos = float(valor + (valor*0.45))\n",
    "distribuidor = float(impostos+(impostos*0.28))\n",
    "print(f'O custo final ao consumidor será de {distribuidor}')"
   ]
  },
  {
   "cell_type": "code",
   "execution_count": 24,
   "metadata": {},
   "outputs": [
    {
     "name": "stdout",
     "output_type": "stream",
     "text": [
      "Digite um valor15\n",
      "15.0 é maior que 10\n"
     ]
    }
   ],
   "source": [
    "#Exercício 13\n",
    "\n",
    "valor = float(input('Digite um valor'))\n",
    "if valor > 10:\n",
    "    print(f'{valor} é maior que 10')"
   ]
  },
  {
   "cell_type": "code",
   "execution_count": 30,
   "metadata": {},
   "outputs": [
    {
     "name": "stdout",
     "output_type": "stream",
     "text": [
      "Digite dois valores separados por espaços20 10\n",
      "20 é o maior valor\n"
     ]
    }
   ],
   "source": [
    "#Exercício 14\n",
    "\n",
    "valores = input('Digite dois valores separados por espaços')\n",
    "valor = valores.split(\" \")\n",
    "maior = max(valor)\n",
    "print(f'{maior} é o maior valor')"
   ]
  },
  {
   "cell_type": "code",
   "execution_count": 31,
   "metadata": {},
   "outputs": [
    {
     "name": "stdout",
     "output_type": "stream",
     "text": [
      "Digite um valor150\n",
      "150.0 está entre 100 e 200\n"
     ]
    }
   ],
   "source": [
    "#Exercício 15\n",
    "\n",
    "valor = float(input('Digite um valor'))\n",
    "if valor > 100 and valor < 200:\n",
    "    print(f'{valor} está entre 100 e 200')"
   ]
  },
  {
   "cell_type": "code",
   "execution_count": 38,
   "metadata": {},
   "outputs": [
    {
     "name": "stdout",
     "output_type": "stream",
     "text": [
      "Digite o seu nomeBárbara\n",
      "Digite sua primeira nota: 5.1\n",
      "Digite sua segunda nota: 5.3\n",
      "Digite sua tereira nota: 6.2\n",
      "Bárbara, você está de recuperação com média 5.533333333333332\n"
     ]
    }
   ],
   "source": [
    "#Exercício 16\n",
    "\n",
    "nome = input('Digite o seu nome')\n",
    "nota1 = float(input('Digite sua primeira nota: '))\n",
    "nota2 = float(input('Digite sua segunda nota: '))\n",
    "nota3 = float(input('Digite sua tereira nota: '))\n",
    "notas = float(nota1 + nota2 +nota3)\n",
    "media = float(notas/3)\n",
    "if media >= 7:\n",
    "    print(f'Parabéns, {nome} você está aprovado com média {media}')\n",
    "if media <= 5:\n",
    "    print(f'Sinto muito, {nome} você está reprovado com média {media}')\n",
    "if media > 5.1 and media < 6.9:\n",
    "    print(f'{nome}, você está de recuperação com média {media}')"
   ]
  },
  {
   "cell_type": "code",
   "execution_count": 67,
   "metadata": {},
   "outputs": [
    {
     "name": "stdout",
     "output_type": "stream",
     "text": [
      "Informe os 80 valores separados por espaço: 80 189\n",
      "80.0\n"
     ]
    }
   ],
   "source": [
    "#Exercício 17\n",
    "\n",
    "valores = input(\"Informe os 80 valores separados por espaço: \").split(' ')\n",
    "for valor in valores:\n",
    "    v = float(valor)\n",
    "    if v > 10 and v < 150:\n",
    "        print(v)"
   ]
  },
  {
   "cell_type": "code",
   "execution_count": null,
   "metadata": {},
   "outputs": [],
   "source": [
    "#Exercício 18\n",
    "#Não consegui"
   ]
  },
  {
   "cell_type": "code",
   "execution_count": null,
   "metadata": {},
   "outputs": [],
   "source": [
    "#Exercício 19\n",
    "#Não consegui"
   ]
  },
  {
   "cell_type": "code",
   "execution_count": null,
   "metadata": {},
   "outputs": [],
   "source": [
    "#Exercício 20\n",
    "#Não consegui"
   ]
  }
 ],
 "metadata": {
  "kernelspec": {
   "display_name": "Python 3",
   "language": "python",
   "name": "python3"
  },
  "language_info": {
   "codemirror_mode": {
    "name": "ipython",
    "version": 3
   },
   "file_extension": ".py",
   "mimetype": "text/x-python",
   "name": "python",
   "nbconvert_exporter": "python",
   "pygments_lexer": "ipython3",
   "version": "3.6.3"
  }
 },
 "nbformat": 4,
 "nbformat_minor": 2
}
